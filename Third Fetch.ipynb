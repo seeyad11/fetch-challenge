{
 "cells": [
  {
   "cell_type": "markdown",
   "id": "222f66b1",
   "metadata": {},
   "source": [
    "#### Data Quality Issues:\n",
    " - Completeness problem (most of the data are missing, especially in receipts)\n",
    " - Duplications\n",
    " - Conformity (Some data in the datasets have different formats in one column) \n",
    " - Consistency (eg: in brands dataset, the category column has several values mean the same such as baking, bread & backery)"
   ]
  },
  {
   "cell_type": "code",
   "execution_count": 22,
   "id": "dfce5766",
   "metadata": {},
   "outputs": [
    {
     "name": "stdout",
     "output_type": "stream",
     "text": [
      "1119\n"
     ]
    }
   ],
   "source": [
    "import json\n",
    "with open(r\"C:\\Users\\lenovo\\Documents\\Python Scripts\\receipts.json\",encoding='utf-8') as f:\n",
    "    receipts = []\n",
    "    for i in f.readlines():\n",
    "        dic = json.loads(i)\n",
    "        receipts.append(dic)\n",
    "print(len(receipts))"
   ]
  },
  {
   "cell_type": "code",
   "execution_count": 2,
   "id": "c450d295",
   "metadata": {},
   "outputs": [
    {
     "name": "stdout",
     "output_type": "stream",
     "text": [
      "1167\n"
     ]
    }
   ],
   "source": [
    "with open(r\"C:\\Users\\lenovo\\Documents\\Python Scripts\\brands.json\",encoding='utf-8') as f:\n",
    "    brands = []\n",
    "    for a in f.readlines():\n",
    "        dic = json.loads(a)\n",
    "        brands.append(dic)\n",
    "print(len(brands))"
   ]
  },
  {
   "cell_type": "code",
   "execution_count": 3,
   "id": "7a8633f6",
   "metadata": {},
   "outputs": [
    {
     "name": "stdout",
     "output_type": "stream",
     "text": [
      "495\n"
     ]
    }
   ],
   "source": [
    "with open(r\"C:\\Users\\lenovo\\Documents\\Python Scripts\\users.json\",encoding='utf-8') as f:\n",
    "    users = []\n",
    "    for a in f.readlines():\n",
    "        dic = json.loads(a)\n",
    "        users.append(dic)\n",
    "print(len(users))"
   ]
  },
  {
   "cell_type": "code",
   "execution_count": 4,
   "id": "fc6f4f35",
   "metadata": {},
   "outputs": [
    {
     "name": "stdout",
     "output_type": "stream",
     "text": [
      "{'_id': {'$oid': '5ff1e1eb0a720f0523000575'}, 'bonusPointsEarned': 500, 'bonusPointsEarnedReason': 'Receipt number 2 completed, bonus point schedule DEFAULT (5cefdcacf3693e0b50e83a36)', 'createDate': {'$date': 1609687531000}, 'dateScanned': {'$date': 1609687531000}, 'finishedDate': {'$date': 1609687531000}, 'modifyDate': {'$date': 1609687536000}, 'pointsAwardedDate': {'$date': 1609687531000}, 'pointsEarned': '500.0', 'purchaseDate': {'$date': 1609632000000}, 'purchasedItemCount': 5, 'rewardsReceiptItemList': [{'barcode': '4011', 'description': 'ITEM NOT FOUND', 'finalPrice': '26.00', 'itemPrice': '26.00', 'needsFetchReview': False, 'partnerItemId': '1', 'preventTargetGapPoints': True, 'quantityPurchased': 5, 'userFlaggedBarcode': '4011', 'userFlaggedNewItem': True, 'userFlaggedPrice': '26.00', 'userFlaggedQuantity': 5}], 'rewardsReceiptStatus': 'FINISHED', 'totalSpent': '26.00', 'userId': '5ff1e1eacfcf6c399c274ae6'}\n"
     ]
    }
   ],
   "source": [
    "print(receipts[0])"
   ]
  },
  {
   "cell_type": "code",
   "execution_count": 5,
   "id": "aecd6dd2",
   "metadata": {},
   "outputs": [
    {
     "name": "stdout",
     "output_type": "stream",
     "text": [
      "{'_id': {'$oid': '601ac115be37ce2ead437551'}, 'barcode': '511111019862', 'category': 'Baking', 'categoryCode': 'BAKING', 'cpg': {'$id': {'$oid': '601ac114be37ce2ead437550'}, '$ref': 'Cogs'}, 'name': 'test brand @1612366101024', 'topBrand': False}\n"
     ]
    }
   ],
   "source": [
    "print(brands[0])"
   ]
  },
  {
   "cell_type": "code",
   "execution_count": 6,
   "id": "1ee1e378",
   "metadata": {},
   "outputs": [
    {
     "name": "stdout",
     "output_type": "stream",
     "text": [
      "{'_id': {'$oid': '5ff1e194b6a9d73a3a9f1052'}, 'active': True, 'createdDate': {'$date': 1609687444800}, 'lastLogin': {'$date': 1609687537858}, 'role': 'consumer', 'signUpSource': 'Email', 'state': 'WI'}\n"
     ]
    }
   ],
   "source": [
    "print(users[0])"
   ]
  },
  {
   "cell_type": "code",
   "execution_count": 7,
   "id": "7e944c51",
   "metadata": {},
   "outputs": [],
   "source": [
    "import pandas as pd\n",
    "\n",
    "good_columns = [\"_id\", 'bonusPointsEarned', 'bonusPointsEarnedReason', 'createDate', 'dateScanned', 'finishedDate', 'modifyDate', 'pointsAwardedDate', 'pointsEarned', 'purchaseDate', 'purchasedItemCount', 'rewardsReceiptItemList', 'rewardsReceiptStatus', 'totalSpent', 'userId']\n",
    "df_receipts = pd.DataFrame(receipts, columns = good_columns)\n",
    "\n",
    "good_columns2 = ['_id', 'barcode', 'category', 'categoryCode', 'cpg', 'name', 'topBrand']\n",
    "df_brands = pd.DataFrame(brands, columns = good_columns2)\n",
    "\n",
    "good_columns3 = ['_id', 'active', 'createdDate', 'lastLogin', 'role', 'signUpSource', 'state']\n",
    "df_users = pd.DataFrame(users, columns = good_columns3)"
   ]
  },
  {
   "cell_type": "code",
   "execution_count": 8,
   "id": "8c749a96",
   "metadata": {},
   "outputs": [
    {
     "name": "stdout",
     "output_type": "stream",
     "text": [
      "                                    _id  active               createdDate  \\\n",
      "0  {'$oid': '5ff1e194b6a9d73a3a9f1052'}    True  {'$date': 1609687444800}   \n",
      "1  {'$oid': '5ff1e194b6a9d73a3a9f1052'}    True  {'$date': 1609687444800}   \n",
      "2  {'$oid': '5ff1e194b6a9d73a3a9f1052'}    True  {'$date': 1609687444800}   \n",
      "3  {'$oid': '5ff1e1eacfcf6c399c274ae6'}    True  {'$date': 1609687530554}   \n",
      "4  {'$oid': '5ff1e194b6a9d73a3a9f1052'}    True  {'$date': 1609687444800}   \n",
      "\n",
      "                  lastLogin      role signUpSource state  \n",
      "0  {'$date': 1609687537858}  consumer        Email    WI  \n",
      "1  {'$date': 1609687537858}  consumer        Email    WI  \n",
      "2  {'$date': 1609687537858}  consumer        Email    WI  \n",
      "3  {'$date': 1609687530597}  consumer        Email    WI  \n",
      "4  {'$date': 1609687537858}  consumer        Email    WI  \n"
     ]
    }
   ],
   "source": [
    "print(df_users.head())"
   ]
  },
  {
   "cell_type": "code",
   "execution_count": 9,
   "id": "1c63e83f",
   "metadata": {
    "scrolled": false
   },
   "outputs": [
    {
     "name": "stdout",
     "output_type": "stream",
     "text": [
      "                                    _id       barcode        category  \\\n",
      "0  {'$oid': '601ac115be37ce2ead437551'}  511111019862          Baking   \n",
      "1  {'$oid': '601c5460be37ce2ead43755f'}  511111519928       Beverages   \n",
      "2  {'$oid': '601ac142be37ce2ead43755d'}  511111819905          Baking   \n",
      "3  {'$oid': '601ac142be37ce2ead43755a'}  511111519874          Baking   \n",
      "4  {'$oid': '601ac142be37ce2ead43755e'}  511111319917  Candy & Sweets   \n",
      "\n",
      "       categoryCode                                                cpg  \\\n",
      "0            BAKING  {'$id': {'$oid': '601ac114be37ce2ead437550'}, ...   \n",
      "1         BEVERAGES  {'$id': {'$oid': '5332f5fbe4b03c9a25efd0ba'}, ...   \n",
      "2            BAKING  {'$id': {'$oid': '601ac142be37ce2ead437559'}, ...   \n",
      "3            BAKING  {'$id': {'$oid': '601ac142be37ce2ead437559'}, ...   \n",
      "4  CANDY_AND_SWEETS  {'$id': {'$oid': '5332fa12e4b03c9a25efd1e7'}, ...   \n",
      "\n",
      "                        name topBrand  \n",
      "0  test brand @1612366101024    False  \n",
      "1                  Starbucks    False  \n",
      "2  test brand @1612366146176    False  \n",
      "3  test brand @1612366146051    False  \n",
      "4  test brand @1612366146827    False  \n"
     ]
    }
   ],
   "source": [
    "print(df_brands.head())"
   ]
  },
  {
   "cell_type": "code",
   "execution_count": 29,
   "id": "6bfe9f32",
   "metadata": {},
   "outputs": [
    {
     "data": {
      "text/plain": [
       "array(['Baking', 'Beverages', 'Candy & Sweets', 'Condiments & Sauces',\n",
       "       'Canned Goods & Soups', nan, 'Magazines', 'Breakfast & Cereal',\n",
       "       'Beer Wine Spirits', 'Health & Wellness', 'Beauty', 'Baby',\n",
       "       'Frozen', 'Grocery', 'Snacks', 'Household', 'Personal Care',\n",
       "       'Dairy', 'Cleaning & Home Improvement', 'Deli',\n",
       "       'Beauty & Personal Care', 'Bread & Bakery', 'Outdoor',\n",
       "       'Dairy & Refrigerated'], dtype=object)"
      ]
     },
     "execution_count": 29,
     "metadata": {},
     "output_type": "execute_result"
    }
   ],
   "source": [
    "df_brands['category'].unique()"
   ]
  },
  {
   "cell_type": "code",
   "execution_count": 10,
   "id": "ec9b7736",
   "metadata": {},
   "outputs": [
    {
     "name": "stdout",
     "output_type": "stream",
     "text": [
      "                                    _id  bonusPointsEarned  \\\n",
      "0  {'$oid': '5ff1e1eb0a720f0523000575'}              500.0   \n",
      "1  {'$oid': '5ff1e1bb0a720f052300056b'}              150.0   \n",
      "2  {'$oid': '5ff1e1f10a720f052300057a'}                5.0   \n",
      "3  {'$oid': '5ff1e1ee0a7214ada100056f'}                5.0   \n",
      "4  {'$oid': '5ff1e1d20a7214ada1000561'}                5.0   \n",
      "\n",
      "                             bonusPointsEarnedReason  \\\n",
      "0  Receipt number 2 completed, bonus point schedu...   \n",
      "1  Receipt number 5 completed, bonus point schedu...   \n",
      "2                         All-receipts receipt bonus   \n",
      "3                         All-receipts receipt bonus   \n",
      "4                         All-receipts receipt bonus   \n",
      "\n",
      "                 createDate               dateScanned  \\\n",
      "0  {'$date': 1609687531000}  {'$date': 1609687531000}   \n",
      "1  {'$date': 1609687483000}  {'$date': 1609687483000}   \n",
      "2  {'$date': 1609687537000}  {'$date': 1609687537000}   \n",
      "3  {'$date': 1609687534000}  {'$date': 1609687534000}   \n",
      "4  {'$date': 1609687506000}  {'$date': 1609687506000}   \n",
      "\n",
      "               finishedDate                modifyDate  \\\n",
      "0  {'$date': 1609687531000}  {'$date': 1609687536000}   \n",
      "1  {'$date': 1609687483000}  {'$date': 1609687488000}   \n",
      "2                       NaN  {'$date': 1609687542000}   \n",
      "3  {'$date': 1609687534000}  {'$date': 1609687539000}   \n",
      "4  {'$date': 1609687511000}  {'$date': 1609687511000}   \n",
      "\n",
      "          pointsAwardedDate pointsEarned              purchaseDate  \\\n",
      "0  {'$date': 1609687531000}        500.0  {'$date': 1609632000000}   \n",
      "1  {'$date': 1609687483000}        150.0  {'$date': 1609601083000}   \n",
      "2                       NaN            5  {'$date': 1609632000000}   \n",
      "3  {'$date': 1609687534000}          5.0  {'$date': 1609632000000}   \n",
      "4  {'$date': 1609687506000}          5.0  {'$date': 1609601106000}   \n",
      "\n",
      "   purchasedItemCount                             rewardsReceiptItemList  \\\n",
      "0                 5.0  [{'barcode': '4011', 'description': 'ITEM NOT ...   \n",
      "1                 2.0  [{'barcode': '4011', 'description': 'ITEM NOT ...   \n",
      "2                 1.0  [{'needsFetchReview': False, 'partnerItemId': ...   \n",
      "3                 4.0  [{'barcode': '4011', 'description': 'ITEM NOT ...   \n",
      "4                 2.0  [{'barcode': '4011', 'description': 'ITEM NOT ...   \n",
      "\n",
      "  rewardsReceiptStatus totalSpent                    userId  \n",
      "0             FINISHED      26.00  5ff1e1eacfcf6c399c274ae6  \n",
      "1             FINISHED      11.00  5ff1e194b6a9d73a3a9f1052  \n",
      "2             REJECTED      10.00  5ff1e1f1cfcf6c399c274b0b  \n",
      "3             FINISHED      28.00  5ff1e1eacfcf6c399c274ae6  \n",
      "4             FINISHED       1.00  5ff1e194b6a9d73a3a9f1052  \n"
     ]
    }
   ],
   "source": [
    "print(df_receipts.head())"
   ]
  },
  {
   "cell_type": "code",
   "execution_count": 11,
   "id": "c5677312",
   "metadata": {
    "scrolled": false
   },
   "outputs": [
    {
     "name": "stdout",
     "output_type": "stream",
     "text": [
      "<class 'pandas.core.frame.DataFrame'>\n",
      "RangeIndex: 1119 entries, 0 to 1118\n",
      "Data columns (total 15 columns):\n",
      " #   Column                   Non-Null Count  Dtype  \n",
      "---  ------                   --------------  -----  \n",
      " 0   _id                      1119 non-null   object \n",
      " 1   bonusPointsEarned        544 non-null    float64\n",
      " 2   bonusPointsEarnedReason  544 non-null    object \n",
      " 3   createDate               1119 non-null   object \n",
      " 4   dateScanned              1119 non-null   object \n",
      " 5   finishedDate             568 non-null    object \n",
      " 6   modifyDate               1119 non-null   object \n",
      " 7   pointsAwardedDate        537 non-null    object \n",
      " 8   pointsEarned             609 non-null    object \n",
      " 9   purchaseDate             671 non-null    object \n",
      " 10  purchasedItemCount       635 non-null    float64\n",
      " 11  rewardsReceiptItemList   679 non-null    object \n",
      " 12  rewardsReceiptStatus     1119 non-null   object \n",
      " 13  totalSpent               684 non-null    object \n",
      " 14  userId                   1119 non-null   object \n",
      "dtypes: float64(2), object(13)\n",
      "memory usage: 131.3+ KB\n"
     ]
    }
   ],
   "source": [
    "df_receipts.info()"
   ]
  },
  {
   "cell_type": "code",
   "execution_count": 15,
   "id": "aa6eb8d3",
   "metadata": {},
   "outputs": [
    {
     "data": {
      "text/html": [
       "<div>\n",
       "<style scoped>\n",
       "    .dataframe tbody tr th:only-of-type {\n",
       "        vertical-align: middle;\n",
       "    }\n",
       "\n",
       "    .dataframe tbody tr th {\n",
       "        vertical-align: top;\n",
       "    }\n",
       "\n",
       "    .dataframe thead th {\n",
       "        text-align: right;\n",
       "    }\n",
       "</style>\n",
       "<table border=\"1\" class=\"dataframe\">\n",
       "  <thead>\n",
       "    <tr style=\"text-align: right;\">\n",
       "      <th></th>\n",
       "      <th>bonusPointsEarned</th>\n",
       "      <th>purchasedItemCount</th>\n",
       "    </tr>\n",
       "  </thead>\n",
       "  <tbody>\n",
       "    <tr>\n",
       "      <th>count</th>\n",
       "      <td>544.000000</td>\n",
       "      <td>635.00000</td>\n",
       "    </tr>\n",
       "    <tr>\n",
       "      <th>mean</th>\n",
       "      <td>238.893382</td>\n",
       "      <td>14.75748</td>\n",
       "    </tr>\n",
       "    <tr>\n",
       "      <th>std</th>\n",
       "      <td>299.091731</td>\n",
       "      <td>61.13424</td>\n",
       "    </tr>\n",
       "    <tr>\n",
       "      <th>min</th>\n",
       "      <td>5.000000</td>\n",
       "      <td>0.00000</td>\n",
       "    </tr>\n",
       "    <tr>\n",
       "      <th>25%</th>\n",
       "      <td>5.000000</td>\n",
       "      <td>1.00000</td>\n",
       "    </tr>\n",
       "    <tr>\n",
       "      <th>50%</th>\n",
       "      <td>45.000000</td>\n",
       "      <td>2.00000</td>\n",
       "    </tr>\n",
       "    <tr>\n",
       "      <th>75%</th>\n",
       "      <td>500.000000</td>\n",
       "      <td>5.00000</td>\n",
       "    </tr>\n",
       "    <tr>\n",
       "      <th>max</th>\n",
       "      <td>750.000000</td>\n",
       "      <td>689.00000</td>\n",
       "    </tr>\n",
       "  </tbody>\n",
       "</table>\n",
       "</div>"
      ],
      "text/plain": [
       "       bonusPointsEarned  purchasedItemCount\n",
       "count         544.000000           635.00000\n",
       "mean          238.893382            14.75748\n",
       "std           299.091731            61.13424\n",
       "min             5.000000             0.00000\n",
       "25%             5.000000             1.00000\n",
       "50%            45.000000             2.00000\n",
       "75%           500.000000             5.00000\n",
       "max           750.000000           689.00000"
      ]
     },
     "execution_count": 15,
     "metadata": {},
     "output_type": "execute_result"
    }
   ],
   "source": [
    "df_receipts.describe()"
   ]
  },
  {
   "cell_type": "code",
   "execution_count": 12,
   "id": "3a5e9d34",
   "metadata": {},
   "outputs": [
    {
     "name": "stdout",
     "output_type": "stream",
     "text": [
      "<class 'pandas.core.frame.DataFrame'>\n",
      "RangeIndex: 1167 entries, 0 to 1166\n",
      "Data columns (total 7 columns):\n",
      " #   Column        Non-Null Count  Dtype \n",
      "---  ------        --------------  ----- \n",
      " 0   _id           1167 non-null   object\n",
      " 1   barcode       1167 non-null   object\n",
      " 2   category      1012 non-null   object\n",
      " 3   categoryCode  517 non-null    object\n",
      " 4   cpg           1167 non-null   object\n",
      " 5   name          1167 non-null   object\n",
      " 6   topBrand      555 non-null    object\n",
      "dtypes: object(7)\n",
      "memory usage: 63.9+ KB\n"
     ]
    }
   ],
   "source": [
    "df_brands.info()"
   ]
  },
  {
   "cell_type": "code",
   "execution_count": 16,
   "id": "ff781408",
   "metadata": {},
   "outputs": [
    {
     "data": {
      "text/html": [
       "<div>\n",
       "<style scoped>\n",
       "    .dataframe tbody tr th:only-of-type {\n",
       "        vertical-align: middle;\n",
       "    }\n",
       "\n",
       "    .dataframe tbody tr th {\n",
       "        vertical-align: top;\n",
       "    }\n",
       "\n",
       "    .dataframe thead th {\n",
       "        text-align: right;\n",
       "    }\n",
       "</style>\n",
       "<table border=\"1\" class=\"dataframe\">\n",
       "  <thead>\n",
       "    <tr style=\"text-align: right;\">\n",
       "      <th></th>\n",
       "      <th>_id</th>\n",
       "      <th>barcode</th>\n",
       "      <th>category</th>\n",
       "      <th>categoryCode</th>\n",
       "      <th>cpg</th>\n",
       "      <th>name</th>\n",
       "      <th>topBrand</th>\n",
       "    </tr>\n",
       "  </thead>\n",
       "  <tbody>\n",
       "    <tr>\n",
       "      <th>count</th>\n",
       "      <td>1167</td>\n",
       "      <td>1167</td>\n",
       "      <td>1012</td>\n",
       "      <td>517</td>\n",
       "      <td>1167</td>\n",
       "      <td>1167</td>\n",
       "      <td>555</td>\n",
       "    </tr>\n",
       "    <tr>\n",
       "      <th>unique</th>\n",
       "      <td>1167</td>\n",
       "      <td>1160</td>\n",
       "      <td>23</td>\n",
       "      <td>14</td>\n",
       "      <td>204</td>\n",
       "      <td>1156</td>\n",
       "      <td>2</td>\n",
       "    </tr>\n",
       "    <tr>\n",
       "      <th>top</th>\n",
       "      <td>{'$oid': '601ac115be37ce2ead437551'}</td>\n",
       "      <td>511111305125</td>\n",
       "      <td>Baking</td>\n",
       "      <td>BAKING</td>\n",
       "      <td>{'$ref': 'Cogs', '$id': {'$oid': '559c2234e4b0...</td>\n",
       "      <td>Huggies</td>\n",
       "      <td>False</td>\n",
       "    </tr>\n",
       "    <tr>\n",
       "      <th>freq</th>\n",
       "      <td>1</td>\n",
       "      <td>2</td>\n",
       "      <td>369</td>\n",
       "      <td>359</td>\n",
       "      <td>98</td>\n",
       "      <td>2</td>\n",
       "      <td>524</td>\n",
       "    </tr>\n",
       "  </tbody>\n",
       "</table>\n",
       "</div>"
      ],
      "text/plain": [
       "                                         _id       barcode category  \\\n",
       "count                                   1167          1167     1012   \n",
       "unique                                  1167          1160       23   \n",
       "top     {'$oid': '601ac115be37ce2ead437551'}  511111305125   Baking   \n",
       "freq                                       1             2      369   \n",
       "\n",
       "       categoryCode                                                cpg  \\\n",
       "count           517                                               1167   \n",
       "unique           14                                                204   \n",
       "top          BAKING  {'$ref': 'Cogs', '$id': {'$oid': '559c2234e4b0...   \n",
       "freq            359                                                 98   \n",
       "\n",
       "           name topBrand  \n",
       "count      1167      555  \n",
       "unique     1156        2  \n",
       "top     Huggies    False  \n",
       "freq          2      524  "
      ]
     },
     "execution_count": 16,
     "metadata": {},
     "output_type": "execute_result"
    }
   ],
   "source": [
    "df_brands.describe()"
   ]
  },
  {
   "cell_type": "code",
   "execution_count": 13,
   "id": "c71a3c7e",
   "metadata": {},
   "outputs": [
    {
     "name": "stdout",
     "output_type": "stream",
     "text": [
      "<class 'pandas.core.frame.DataFrame'>\n",
      "RangeIndex: 495 entries, 0 to 494\n",
      "Data columns (total 7 columns):\n",
      " #   Column        Non-Null Count  Dtype \n",
      "---  ------        --------------  ----- \n",
      " 0   _id           495 non-null    object\n",
      " 1   active        495 non-null    bool  \n",
      " 2   createdDate   495 non-null    object\n",
      " 3   lastLogin     433 non-null    object\n",
      " 4   role          495 non-null    object\n",
      " 5   signUpSource  447 non-null    object\n",
      " 6   state         439 non-null    object\n",
      "dtypes: bool(1), object(6)\n",
      "memory usage: 23.8+ KB\n"
     ]
    }
   ],
   "source": [
    "df_users.info()"
   ]
  },
  {
   "cell_type": "code",
   "execution_count": 21,
   "id": "6e419b8f",
   "metadata": {},
   "outputs": [
    {
     "ename": "AttributeError",
     "evalue": "'DataFrame' object has no attribute 'statistic'",
     "output_type": "error",
     "traceback": [
      "\u001b[1;31m---------------------------------------------------------------------------\u001b[0m",
      "\u001b[1;31mAttributeError\u001b[0m                            Traceback (most recent call last)",
      "\u001b[1;32m~\\AppData\\Local\\Temp/ipykernel_18800/920459117.py\u001b[0m in \u001b[0;36m<module>\u001b[1;34m\u001b[0m\n\u001b[1;32m----> 1\u001b[1;33m \u001b[0mdf_users\u001b[0m\u001b[1;33m.\u001b[0m\u001b[0mstatistic\u001b[0m\u001b[1;33m(\u001b[0m\u001b[1;33m)\u001b[0m\u001b[1;33m\u001b[0m\u001b[1;33m\u001b[0m\u001b[0m\n\u001b[0m",
      "\u001b[1;32md:\\download\\lib\\site-packages\\pandas\\core\\generic.py\u001b[0m in \u001b[0;36m__getattr__\u001b[1;34m(self, name)\u001b[0m\n\u001b[0;32m   5485\u001b[0m         ):\n\u001b[0;32m   5486\u001b[0m             \u001b[1;32mreturn\u001b[0m \u001b[0mself\u001b[0m\u001b[1;33m[\u001b[0m\u001b[0mname\u001b[0m\u001b[1;33m]\u001b[0m\u001b[1;33m\u001b[0m\u001b[1;33m\u001b[0m\u001b[0m\n\u001b[1;32m-> 5487\u001b[1;33m         \u001b[1;32mreturn\u001b[0m \u001b[0mobject\u001b[0m\u001b[1;33m.\u001b[0m\u001b[0m__getattribute__\u001b[0m\u001b[1;33m(\u001b[0m\u001b[0mself\u001b[0m\u001b[1;33m,\u001b[0m \u001b[0mname\u001b[0m\u001b[1;33m)\u001b[0m\u001b[1;33m\u001b[0m\u001b[1;33m\u001b[0m\u001b[0m\n\u001b[0m\u001b[0;32m   5488\u001b[0m \u001b[1;33m\u001b[0m\u001b[0m\n\u001b[0;32m   5489\u001b[0m     \u001b[1;32mdef\u001b[0m \u001b[0m__setattr__\u001b[0m\u001b[1;33m(\u001b[0m\u001b[0mself\u001b[0m\u001b[1;33m,\u001b[0m \u001b[0mname\u001b[0m\u001b[1;33m:\u001b[0m \u001b[0mstr\u001b[0m\u001b[1;33m,\u001b[0m \u001b[0mvalue\u001b[0m\u001b[1;33m)\u001b[0m \u001b[1;33m->\u001b[0m \u001b[1;32mNone\u001b[0m\u001b[1;33m:\u001b[0m\u001b[1;33m\u001b[0m\u001b[1;33m\u001b[0m\u001b[0m\n",
      "\u001b[1;31mAttributeError\u001b[0m: 'DataFrame' object has no attribute 'statistic'"
     ]
    }
   ],
   "source": [
    "df_users.statistic()"
   ]
  },
  {
   "cell_type": "code",
   "execution_count": 14,
   "id": "d7b0b036",
   "metadata": {
    "scrolled": true
   },
   "outputs": [
    {
     "data": {
      "text/plain": [
       "0       {'$date': 1609687531000}\n",
       "1       {'$date': 1609687483000}\n",
       "2                            NaN\n",
       "3       {'$date': 1609687534000}\n",
       "4       {'$date': 1609687511000}\n",
       "                  ...           \n",
       "1114                         NaN\n",
       "1115                         NaN\n",
       "1116                         NaN\n",
       "1117                         NaN\n",
       "1118                         NaN\n",
       "Name: finishedDate, Length: 1119, dtype: object"
      ]
     },
     "execution_count": 14,
     "metadata": {},
     "output_type": "execute_result"
    }
   ],
   "source": [
    "df_receipts['finishedDate']"
   ]
  },
  {
   "cell_type": "code",
   "execution_count": null,
   "id": "a9e4b6a8",
   "metadata": {},
   "outputs": [],
   "source": []
  }
 ],
 "metadata": {
  "kernelspec": {
   "display_name": "Python 3 (ipykernel)",
   "language": "python",
   "name": "python3"
  },
  "language_info": {
   "codemirror_mode": {
    "name": "ipython",
    "version": 3
   },
   "file_extension": ".py",
   "mimetype": "text/x-python",
   "name": "python",
   "nbconvert_exporter": "python",
   "pygments_lexer": "ipython3",
   "version": "3.9.6"
  }
 },
 "nbformat": 4,
 "nbformat_minor": 5
}
